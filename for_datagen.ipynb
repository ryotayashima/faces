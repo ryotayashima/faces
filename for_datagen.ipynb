{
 "cells": [
  {
   "cell_type": "code",
   "execution_count": 1,
   "metadata": {
    "ExecuteTime": {
     "end_time": "2019-08-15T04:43:37.675784Z",
     "start_time": "2019-08-15T04:43:37.663239Z"
    }
   },
   "outputs": [],
   "source": [
    "import os\n",
    "import shutil\n",
    "from tqdm import tqdm"
   ]
  },
  {
   "cell_type": "code",
   "execution_count": 2,
   "metadata": {
    "ExecuteTime": {
     "end_time": "2019-08-15T04:43:38.005409Z",
     "start_time": "2019-08-15T04:43:38.001056Z"
    }
   },
   "outputs": [],
   "source": [
    "input_path_1 = './UTKface_inthewild/part1_reshaped/'\n",
    "input_path_2 = './UTKface_inthewild/part2_reshaped/'\n",
    "input_path_3 = './UTKface_inthewild/part3_reshaped/'\n",
    "output_path = './UTKface_inthewild/'"
   ]
  },
  {
   "cell_type": "code",
   "execution_count": 3,
   "metadata": {
    "ExecuteTime": {
     "end_time": "2019-08-15T04:43:38.431445Z",
     "start_time": "2019-08-15T04:43:38.427732Z"
    }
   },
   "outputs": [],
   "source": [
    "def get_file(dir_path):\n",
    "    filenames = os.listdir(dir_path)\n",
    "    return filenames"
   ]
  },
  {
   "cell_type": "code",
   "execution_count": 20,
   "metadata": {
    "ExecuteTime": {
     "end_time": "2019-08-15T04:58:56.108800Z",
     "start_time": "2019-08-15T04:58:56.096093Z"
    }
   },
   "outputs": [],
   "source": [
    "def identify(input_path, string):\n",
    "    pic = get_file(input_path)\n",
    "    for name in tqdm(pic):\n",
    "        img_path = input_path + name\n",
    "        _ = name.split('(')[1]\n",
    "        label_age = _.split('_')[0]\n",
    "        label_sex = _.split('_')[1]\n",
    "        label_sex = label_sex.split('_')[0]\n",
    "        path_sex = output_path + string + '/' + string+'_sex/' + str(label_sex)\n",
    "        path_age = output_path + string + '/' + string + '_age/' + str(label_age)\n",
    "        if label_sex != 3:\n",
    "            if os.path.exists(path_sex) is False:\n",
    "                os.mkdir(path_sex)\n",
    "            shutil.copy(img_path, path_sex)\n",
    "#         if os.path.exists(path_age) is False:\n",
    "#             os.mkdir(path_age)\n",
    "#         shutil.copy(img_path, path_age)"
   ]
  },
  {
   "cell_type": "code",
   "execution_count": 21,
   "metadata": {
    "ExecuteTime": {
     "end_time": "2019-08-15T04:58:58.813737Z",
     "start_time": "2019-08-15T04:58:56.966638Z"
    }
   },
   "outputs": [
    {
     "name": "stderr",
     "output_type": "stream",
     "text": [
      "100%|██████████| 10484/10484 [00:00<00:00, 12809.96it/s]\n",
      "100%|██████████| 12024/12024 [00:00<00:00, 12101.48it/s]\n"
     ]
    }
   ],
   "source": [
    "identify(input_path_1, 'train')\n",
    "identify(input_path_2, 'train')\n",
    "# identify(input_path_3, 'validation')"
   ]
  }
 ],
 "metadata": {
  "kernelspec": {
   "display_name": "py37",
   "language": "python",
   "name": "py37"
  },
  "language_info": {
   "codemirror_mode": {
    "name": "ipython",
    "version": 3
   },
   "file_extension": ".py",
   "mimetype": "text/x-python",
   "name": "python",
   "nbconvert_exporter": "python",
   "pygments_lexer": "ipython3",
   "version": "3.7.3"
  },
  "toc": {
   "base_numbering": 1,
   "nav_menu": {},
   "number_sections": true,
   "sideBar": true,
   "skip_h1_title": false,
   "title_cell": "Table of Contents",
   "title_sidebar": "Contents",
   "toc_cell": false,
   "toc_position": {},
   "toc_section_display": true,
   "toc_window_display": false
  }
 },
 "nbformat": 4,
 "nbformat_minor": 2
}
