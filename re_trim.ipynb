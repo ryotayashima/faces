{
 "cells": [
  {
   "cell_type": "code",
   "execution_count": 22,
   "metadata": {
    "ExecuteTime": {
     "end_time": "2019-08-14T09:53:36.385846Z",
     "start_time": "2019-08-14T09:53:36.380751Z"
    }
   },
   "outputs": [],
   "source": [
    "import os\n",
    "import shutil"
   ]
  },
  {
   "cell_type": "code",
   "execution_count": 37,
   "metadata": {
    "ExecuteTime": {
     "end_time": "2019-08-14T09:58:52.072904Z",
     "start_time": "2019-08-14T09:58:52.064141Z"
    }
   },
   "outputs": [],
   "source": [
    "from tqdm import tqdm"
   ]
  },
  {
   "cell_type": "code",
   "execution_count": 38,
   "metadata": {
    "ExecuteTime": {
     "end_time": "2019-08-14T09:58:53.256471Z",
     "start_time": "2019-08-14T09:58:53.245144Z"
    }
   },
   "outputs": [],
   "source": [
    "input_path = './UTKface_inthewild/part3_trimmed/'\n",
    "output_path = './UTKface_inthewild/part3_re_trimmed/'"
   ]
  },
  {
   "cell_type": "code",
   "execution_count": 39,
   "metadata": {
    "ExecuteTime": {
     "end_time": "2019-08-14T09:58:53.784833Z",
     "start_time": "2019-08-14T09:58:53.769510Z"
    }
   },
   "outputs": [],
   "source": [
    "def get_file(dir_path):\n",
    "    filenames = os.listdir(dir_path)\n",
    "    return filenames"
   ]
  },
  {
   "cell_type": "code",
   "execution_count": 40,
   "metadata": {
    "ExecuteTime": {
     "end_time": "2019-08-14T09:58:54.147311Z",
     "start_time": "2019-08-14T09:58:54.112394Z"
    }
   },
   "outputs": [],
   "source": [
    "pic = get_file(input_path)"
   ]
  },
  {
   "cell_type": "code",
   "execution_count": 41,
   "metadata": {
    "ExecuteTime": {
     "end_time": "2019-08-14T09:58:54.741118Z",
     "start_time": "2019-08-14T09:58:54.449038Z"
    },
    "scrolled": true
   },
   "outputs": [
    {
     "name": "stderr",
     "output_type": "stream",
     "text": [
      "100%|██████████| 3558/3558 [00:00<00:00, 12981.29it/s]\n"
     ]
    }
   ],
   "source": [
    "for i in tqdm(pic):\n",
    "    size = os.path.getsize(input_path+i)\n",
    "    if size > 2*10**3:\n",
    "        shutil.copyfile(input_path+i, output_path+i)"
   ]
  },
  {
   "cell_type": "code",
   "execution_count": null,
   "metadata": {},
   "outputs": [],
   "source": []
  }
 ],
 "metadata": {
  "kernelspec": {
   "display_name": "py37",
   "language": "python",
   "name": "py37"
  },
  "language_info": {
   "codemirror_mode": {
    "name": "ipython",
    "version": 3
   },
   "file_extension": ".py",
   "mimetype": "text/x-python",
   "name": "python",
   "nbconvert_exporter": "python",
   "pygments_lexer": "ipython3",
   "version": "3.7.3"
  },
  "toc": {
   "base_numbering": 1,
   "nav_menu": {},
   "number_sections": true,
   "sideBar": true,
   "skip_h1_title": false,
   "title_cell": "Table of Contents",
   "title_sidebar": "Contents",
   "toc_cell": false,
   "toc_position": {},
   "toc_section_display": true,
   "toc_window_display": false
  },
  "varInspector": {
   "cols": {
    "lenName": 16,
    "lenType": 16,
    "lenVar": 40
   },
   "kernels_config": {
    "python": {
     "delete_cmd_postfix": "",
     "delete_cmd_prefix": "del ",
     "library": "var_list.py",
     "varRefreshCmd": "print(var_dic_list())"
    },
    "r": {
     "delete_cmd_postfix": ") ",
     "delete_cmd_prefix": "rm(",
     "library": "var_list.r",
     "varRefreshCmd": "cat(var_dic_list()) "
    }
   },
   "types_to_exclude": [
    "module",
    "function",
    "builtin_function_or_method",
    "instance",
    "_Feature"
   ],
   "window_display": false
  }
 },
 "nbformat": 4,
 "nbformat_minor": 2
}
