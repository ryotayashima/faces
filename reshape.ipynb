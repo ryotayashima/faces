{
 "cells": [
  {
   "cell_type": "code",
   "execution_count": 41,
   "metadata": {
    "ExecuteTime": {
     "end_time": "2019-08-14T10:30:28.634854Z",
     "start_time": "2019-08-14T10:30:28.625905Z"
    }
   },
   "outputs": [],
   "source": [
    "import os \n",
    "import cv2\n",
    "import pandas  as pd\n",
    "import matplotlib.pyplot as plt\n",
    "from tqdm import tqdm"
   ]
  },
  {
   "cell_type": "code",
   "execution_count": 52,
   "metadata": {
    "ExecuteTime": {
     "end_time": "2019-08-14T11:14:46.602033Z",
     "start_time": "2019-08-14T11:14:46.595239Z"
    }
   },
   "outputs": [],
   "source": [
    "input_path_1 = './UTKface_inthewild/part1_re_trimmed/'\n",
    "input_path_2 = './UTKface_inthewild/part2_re_trimmed/'\n",
    "input_path_3 = './UTKface_inthewild/part3_re_trimmed/'\n",
    "\n",
    "output_path_1 = './UTKface_inthewild/part1_reshaped/'\n",
    "output_path_2 = './UTKface_inthewild/part2_reshaped/'\n",
    "output_path_3 = './UTKface_inthewild/part3_reshaped/'"
   ]
  },
  {
   "cell_type": "code",
   "execution_count": 14,
   "metadata": {
    "ExecuteTime": {
     "end_time": "2019-08-14T10:14:38.953584Z",
     "start_time": "2019-08-14T10:14:38.941679Z"
    }
   },
   "outputs": [],
   "source": [
    "def get_file(dir_path):\n",
    "    filenames = os.listdir(dir_path)\n",
    "    return filenames"
   ]
  },
  {
   "cell_type": "code",
   "execution_count": 21,
   "metadata": {
    "ExecuteTime": {
     "end_time": "2019-08-14T10:16:18.204442Z",
     "start_time": "2019-08-14T10:16:18.188201Z"
    }
   },
   "outputs": [],
   "source": [
    "counter = []"
   ]
  },
  {
   "cell_type": "code",
   "execution_count": 22,
   "metadata": {
    "ExecuteTime": {
     "end_time": "2019-08-14T10:16:18.627819Z",
     "start_time": "2019-08-14T10:16:18.605444Z"
    }
   },
   "outputs": [],
   "source": [
    "def count(input_path):\n",
    "    pic = get_file(input_path)\n",
    "    for i in tqdm(pic):\n",
    "        img = cv2.imread(input_path+i)\n",
    "        size = img.shape[0]*img.shape[1]\n",
    "        counter.append(size)"
   ]
  },
  {
   "cell_type": "code",
   "execution_count": 23,
   "metadata": {
    "ExecuteTime": {
     "end_time": "2019-08-14T10:16:40.926640Z",
     "start_time": "2019-08-14T10:16:19.283101Z"
    }
   },
   "outputs": [
    {
     "name": "stderr",
     "output_type": "stream",
     "text": [
      "100%|██████████| 10484/10484 [00:08<00:00, 1292.98it/s]\n",
      "100%|██████████| 12024/12024 [00:12<00:00, 997.18it/s] \n",
      "100%|██████████| 3289/3289 [00:01<00:00, 2365.68it/s]\n"
     ]
    }
   ],
   "source": [
    "count(input_path_1)\n",
    "count(input_path_2)\n",
    "count(input_path_3)"
   ]
  },
  {
   "cell_type": "code",
   "execution_count": 30,
   "metadata": {
    "ExecuteTime": {
     "end_time": "2019-08-14T10:24:49.469908Z",
     "start_time": "2019-08-14T10:24:49.450514Z"
    }
   },
   "outputs": [],
   "source": [
    "df = pd.Series(counter)"
   ]
  },
  {
   "cell_type": "code",
   "execution_count": 45,
   "metadata": {
    "ExecuteTime": {
     "end_time": "2019-08-14T10:32:28.591631Z",
     "start_time": "2019-08-14T10:32:28.237093Z"
    }
   },
   "outputs": [
    {
     "data": {
      "text/plain": [
       "(array([  0.,  33., 271., 405., 486., 582., 431., 599., 432., 453., 424.,\n",
       "        403., 383., 384., 353., 339., 356., 319., 299., 345., 304., 369.,\n",
       "        237., 252., 388., 258., 345., 269., 294., 290., 276., 150., 277.,\n",
       "        281., 285., 182., 259., 165., 230., 177., 208., 158., 223., 178.,\n",
       "        258., 129., 153., 252., 132., 151., 144., 204., 136., 138., 135.,\n",
       "        130., 146., 132., 112., 110., 120., 106., 136., 125., 113., 130.,\n",
       "         99., 108., 116., 128., 102., 101., 110., 111.,  38., 135.,  95.,\n",
       "        117.,  87.,  49.,  94.,  82., 100.,  51.,  86.,  82.,  40.,  83.,\n",
       "         93.,  45.,  76., 109.,  45.,  68.,  85.,  44.,  83.,  66.,  37.,\n",
       "         75.]),\n",
       " array([     0.,   1000.,   2000.,   3000.,   4000.,   5000.,   6000.,\n",
       "          7000.,   8000.,   9000.,  10000.,  11000.,  12000.,  13000.,\n",
       "         14000.,  15000.,  16000.,  17000.,  18000.,  19000.,  20000.,\n",
       "         21000.,  22000.,  23000.,  24000.,  25000.,  26000.,  27000.,\n",
       "         28000.,  29000.,  30000.,  31000.,  32000.,  33000.,  34000.,\n",
       "         35000.,  36000.,  37000.,  38000.,  39000.,  40000.,  41000.,\n",
       "         42000.,  43000.,  44000.,  45000.,  46000.,  47000.,  48000.,\n",
       "         49000.,  50000.,  51000.,  52000.,  53000.,  54000.,  55000.,\n",
       "         56000.,  57000.,  58000.,  59000.,  60000.,  61000.,  62000.,\n",
       "         63000.,  64000.,  65000.,  66000.,  67000.,  68000.,  69000.,\n",
       "         70000.,  71000.,  72000.,  73000.,  74000.,  75000.,  76000.,\n",
       "         77000.,  78000.,  79000.,  80000.,  81000.,  82000.,  83000.,\n",
       "         84000.,  85000.,  86000.,  87000.,  88000.,  89000.,  90000.,\n",
       "         91000.,  92000.,  93000.,  94000.,  95000.,  96000.,  97000.,\n",
       "         98000.,  99000., 100000.]),\n",
       " <a list of 100 Patch objects>)"
      ]
     },
     "execution_count": 45,
     "metadata": {},
     "output_type": "execute_result"
    },
    {
     "data": {
      "image/png": "[encoded data removed]",
      "text/plain": [
       "<Figure size 432x288 with 1 Axes>"
      ]
     },
     "metadata": {
      "needs_background": "light"
     },
     "output_type": "display_data"
    }
   ],
   "source": [
    "plt.hist(df, bins=100, range=(0, 100000))"
   ]
  },
  {
   "cell_type": "code",
   "execution_count": 47,
   "metadata": {
    "ExecuteTime": {
     "end_time": "2019-08-14T10:33:28.011313Z",
     "start_time": "2019-08-14T10:33:27.991347Z"
    }
   },
   "outputs": [
    {
     "data": {
      "text/plain": [
       "41616.0"
      ]
     },
     "execution_count": 47,
     "metadata": {},
     "output_type": "execute_result"
    }
   ],
   "source": [
    "df.median()"
   ]
  },
  {
   "cell_type": "code",
   "execution_count": 56,
   "metadata": {
    "ExecuteTime": {
     "end_time": "2019-08-14T11:17:53.915984Z",
     "start_time": "2019-08-14T11:17:53.905379Z"
    }
   },
   "outputs": [],
   "source": [
    "def reshape(input_path, output_path):\n",
    "    pic = get_file(input_path)\n",
    "    for i in tqdm(pic):\n",
    "        img = cv2.imread(input_path+i)\n",
    "        col = cv2.resize(img, (200, 200))\n",
    "        cv2.imwrite(output_path+i, col)"
   ]
  },
  {
   "cell_type": "code",
   "execution_count": 57,
   "metadata": {
    "ExecuteTime": {
     "end_time": "2019-08-14T11:18:33.554918Z",
     "start_time": "2019-08-14T11:17:54.910648Z"
    }
   },
   "outputs": [
    {
     "name": "stderr",
     "output_type": "stream",
     "text": [
      "100%|██████████| 10484/10484 [00:14<00:00, 717.61it/s]\n",
      "100%|██████████| 12024/12024 [00:20<00:00, 585.28it/s]\n",
      "100%|██████████| 3289/3289 [00:03<00:00, 958.81it/s]\n"
     ]
    }
   ],
   "source": [
    "reshape(input_path_1, output_path_1)\n",
    "reshape(input_path_2, output_path_2)\n",
    "reshape(input_path_3, output_path_3)"
   ]
  }
 ],
 "metadata": {
  "kernelspec": {
   "display_name": "py37",
   "language": "python",
   "name": "py37"
  },
  "language_info": {
   "codemirror_mode": {
    "name": "ipython",
    "version": 3
   },
   "file_extension": ".py",
   "mimetype": "text/x-python",
   "name": "python",
   "nbconvert_exporter": "python",
   "pygments_lexer": "ipython3",
   "version": "3.7.3"
  },
  "toc": {
   "base_numbering": 1,
   "nav_menu": {},
   "number_sections": true,
   "sideBar": true,
   "skip_h1_title": false,
   "title_cell": "Table of Contents",
   "title_sidebar": "Contents",
   "toc_cell": false,
   "toc_position": {},
   "toc_section_display": true,
   "toc_window_display": false
  },
  "varInspector": {
   "cols": {
    "lenName": 16,
    "lenType": 16,
    "lenVar": 40
   },
   "kernels_config": {
    "python": {
     "delete_cmd_postfix": "",
     "delete_cmd_prefix": "del ",
     "library": "var_list.py",
     "varRefreshCmd": "print(var_dic_list())"
    },
    "r": {
     "delete_cmd_postfix": ") ",
     "delete_cmd_prefix": "rm(",
     "library": "var_list.r",
     "varRefreshCmd": "cat(var_dic_list()) "
    }
   },
   "types_to_exclude": [
    "module",
    "function",
    "builtin_function_or_method",
    "instance",
    "_Feature"
   ],
   "window_display": false
  }
 },
 "nbformat": 4,
 "nbformat_minor": 2
}
