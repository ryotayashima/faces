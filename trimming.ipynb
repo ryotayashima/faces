{
 "cells": [
  {
   "cell_type": "code",
   "execution_count": 1,
   "metadata": {
    "ExecuteTime": {
     "end_time": "2019-08-14T08:44:47.222817Z",
     "start_time": "2019-08-14T08:44:46.892344Z"
    }
   },
   "outputs": [],
   "source": [
    "import cv2\n",
    "import matplotlib.pyplot as plt\n",
    "import numpy as np\n",
    "import sys, os\n",
    "from PIL import Image\n",
    "%matplotlib inline"
   ]
  },
  {
   "cell_type": "code",
   "execution_count": 2,
   "metadata": {
    "ExecuteTime": {
     "end_time": "2019-08-14T08:44:52.892252Z",
     "start_time": "2019-08-14T08:44:52.872228Z"
    }
   },
   "outputs": [],
   "source": [
    "from tqdm import tqdm"
   ]
  },
  {
   "cell_type": "code",
   "execution_count": 3,
   "metadata": {
    "ExecuteTime": {
     "end_time": "2019-08-14T08:44:53.328589Z",
     "start_time": "2019-08-14T08:44:53.322792Z"
    }
   },
   "outputs": [],
   "source": [
    "input_path = './UTKface_inthewild/part3_trimmed/'\n",
    "output_path = './UTKface_inthewild/part3_re_trimmed/'"
   ]
  },
  {
   "cell_type": "code",
   "execution_count": 4,
   "metadata": {
    "ExecuteTime": {
     "end_time": "2019-08-14T08:44:53.663093Z",
     "start_time": "2019-08-14T08:44:53.656336Z"
    }
   },
   "outputs": [],
   "source": [
    "def get_file(dir_path):\n",
    "    filenames = os.listdir(dir_path)\n",
    "    return filenames"
   ]
  },
  {
   "cell_type": "code",
   "execution_count": 5,
   "metadata": {
    "ExecuteTime": {
     "end_time": "2019-08-14T08:44:54.058475Z",
     "start_time": "2019-08-14T08:44:54.047824Z"
    }
   },
   "outputs": [],
   "source": [
    "pic = get_file(input_path)"
   ]
  },
  {
   "cell_type": "code",
   "execution_count": 6,
   "metadata": {
    "ExecuteTime": {
     "end_time": "2019-08-14T08:48:39.056536Z",
     "start_time": "2019-08-14T08:44:55.051302Z"
    }
   },
   "outputs": [
    {
     "name": "stderr",
     "output_type": "stream",
     "text": [
      "100%|██████████| 3558/3558 [03:43<00:00, 15.89it/s]\n"
     ]
    }
   ],
   "source": [
    "for i in tqdm(pic):\n",
    "    img = cv2.imread(input_path+i)\n",
    "    cascade = cv2.CascadeClassifier('/usr/share/opencv/haarcascades/haarcascade_frontalface_alt.xml')\n",
    "    face_list = cascade.detectMultiScale(img,scaleFactor=1.1,minNeighbors=1,minSize=(1,1))\n",
    "    no = 1\n",
    "    for rect in face_list:\n",
    "        x = rect[0]\n",
    "        y = rect[1]\n",
    "        width = rect[2]\n",
    "        height = rect[3]\n",
    "        dst = img[y:y+height, x:x+width]\n",
    "        save_path = output_path + '/' + 'out_('  + str(i) +')' + str(no) + '.jpg'\n",
    "        cv2.imwrite(save_path, dst)\n",
    "        no += 1"
   ]
  },
  {
   "cell_type": "code",
   "execution_count": null,
   "metadata": {},
   "outputs": [],
   "source": []
  }
 ],
 "metadata": {
  "kernelspec": {
   "display_name": "py37",
   "language": "python",
   "name": "py37"
  },
  "language_info": {
   "codemirror_mode": {
    "name": "ipython",
    "version": 3
   },
   "file_extension": ".py",
   "mimetype": "text/x-python",
   "name": "python",
   "nbconvert_exporter": "python",
   "pygments_lexer": "ipython3",
   "version": "3.7.3"
  },
  "toc": {
   "base_numbering": 1,
   "nav_menu": {},
   "number_sections": true,
   "sideBar": true,
   "skip_h1_title": false,
   "title_cell": "Table of Contents",
   "title_sidebar": "Contents",
   "toc_cell": false,
   "toc_position": {},
   "toc_section_display": true,
   "toc_window_display": false
  },
  "varInspector": {
   "cols": {
    "lenName": 16,
    "lenType": 16,
    "lenVar": 40
   },
   "kernels_config": {
    "python": {
     "delete_cmd_postfix": "",
     "delete_cmd_prefix": "del ",
     "library": "var_list.py",
     "varRefreshCmd": "print(var_dic_list())"
    },
    "r": {
     "delete_cmd_postfix": ") ",
     "delete_cmd_prefix": "rm(",
     "library": "var_list.r",
     "varRefreshCmd": "cat(var_dic_list()) "
    }
   },
   "types_to_exclude": [
    "module",
    "function",
    "builtin_function_or_method",
    "instance",
    "_Feature"
   ],
   "window_display": false
  }
 },
 "nbformat": 4,
 "nbformat_minor": 2
}
